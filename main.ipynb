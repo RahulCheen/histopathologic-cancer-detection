{
 "cells": [
  {
   "cell_type": "markdown",
   "id": "54d252da",
   "metadata": {},
   "source": [
    "# Histopathologic Cancer Classification"
   ]
  },
  {
   "cell_type": "markdown",
   "id": "e53ea072",
   "metadata": {},
   "source": [
    "## Loading libraries and data"
   ]
  },
  {
   "cell_type": "code",
   "execution_count": 10,
   "id": "ee6c5f44",
   "metadata": {},
   "outputs": [
    {
     "data": {
      "text/html": [
       "<div>\n",
       "<style scoped>\n",
       "    .dataframe tbody tr th:only-of-type {\n",
       "        vertical-align: middle;\n",
       "    }\n",
       "\n",
       "    .dataframe tbody tr th {\n",
       "        vertical-align: top;\n",
       "    }\n",
       "\n",
       "    .dataframe thead th {\n",
       "        text-align: right;\n",
       "    }\n",
       "</style>\n",
       "<table border=\"1\" class=\"dataframe\">\n",
       "  <thead>\n",
       "    <tr style=\"text-align: right;\">\n",
       "      <th></th>\n",
       "      <th>id</th>\n",
       "      <th>label</th>\n",
       "    </tr>\n",
       "  </thead>\n",
       "  <tbody>\n",
       "    <tr>\n",
       "      <th>0</th>\n",
       "      <td>f38a6374c348f90b587e046aac6079959adf3835</td>\n",
       "      <td>0</td>\n",
       "    </tr>\n",
       "    <tr>\n",
       "      <th>1</th>\n",
       "      <td>c18f2d887b7ae4f6742ee445113fa1aef383ed77</td>\n",
       "      <td>1</td>\n",
       "    </tr>\n",
       "    <tr>\n",
       "      <th>2</th>\n",
       "      <td>755db6279dae599ebb4d39a9123cce439965282d</td>\n",
       "      <td>0</td>\n",
       "    </tr>\n",
       "    <tr>\n",
       "      <th>3</th>\n",
       "      <td>bc3f0c64fb968ff4a8bd33af6971ecae77c75e08</td>\n",
       "      <td>0</td>\n",
       "    </tr>\n",
       "    <tr>\n",
       "      <th>4</th>\n",
       "      <td>068aba587a4950175d04c680d38943fd488d6a9d</td>\n",
       "      <td>0</td>\n",
       "    </tr>\n",
       "  </tbody>\n",
       "</table>\n",
       "</div>"
      ],
      "text/plain": [
       "                                         id  label\n",
       "0  f38a6374c348f90b587e046aac6079959adf3835      0\n",
       "1  c18f2d887b7ae4f6742ee445113fa1aef383ed77      1\n",
       "2  755db6279dae599ebb4d39a9123cce439965282d      0\n",
       "3  bc3f0c64fb968ff4a8bd33af6971ecae77c75e08      0\n",
       "4  068aba587a4950175d04c680d38943fd488d6a9d      0"
      ]
     },
     "execution_count": 10,
     "metadata": {},
     "output_type": "execute_result"
    }
   ],
   "source": [
    "import torch                # I have not used keras much before. I'm more familiar with pytorch so I'll use that\n",
    "import tifffile as tiff     # For reading in the .tif images\n",
    "import pandas as pd\n",
    "import matplotlib.pyplot as plt\n",
    "import os\n",
    "\n",
    "# Want to make sure I'm training on my GPU because I do not have one million years to train on my CPU\n",
    "torch.set_default_device('cuda')\n",
    "torch.cuda.get_device_name(0)\n",
    "\n",
    "train_labels = pd.read_csv('train_labels.csv')\n",
    "train_labels.head()"
   ]
  },
  {
   "cell_type": "markdown",
   "id": "2d2b75d0",
   "metadata": {},
   "source": [
    "## EDA"
   ]
  },
  {
   "cell_type": "code",
   "execution_count": null,
   "id": "85a83938",
   "metadata": {},
   "outputs": [
    {
     "name": "stdout",
     "output_type": "stream",
     "text": [
      "0\n"
     ]
    }
   ],
   "source": [
    "# Checking for class imbalance in training data labels\n",
    "print(train_labels['label'].value_counts())\n",
    "duplicate_ids = train_labels.duplicated(subset='id').sum()\n",
    "print(f'Found {duplicate_ids} duplicated file IDs')\n",
    "\n",
    "# Test image reading\n",
    "def show_image(image_id: str) -> None:\n",
    "    path = os.path.join('train', f'{image_id}.tif')\n",
    "    img = tiff.imread(path)\n",
    "    plt.imshow(img)\n",
    "    plt.axis('off')\n",
    "    plt.title(image_id)\n",
    "    plt.show()\n",
    "\n",
    "sample_images = train_labels.sample(n=1000)\n",
    "\n",
    "show_image(sample_images.iloc[100]['id'])\n",
    "\n",
    "# Check for corrupt or files not matching expectations\n",
    "bad_files = []\n",
    "for image_id in sample_images['id']:\n",
    "    try:\n",
    "        img = tiff.imread(os.path.join('train', f'{image_id}.tif'))\n",
    "        assert img.shape == (96, 96, 3)\n",
    "    except Exception as e:\n",
    "        print(f'image {image_id} does not match format expectations.')\n",
    "        bad_files.append(image_id)\n",
    "\n",
    "print(f'Found {len(bad_files)} images not matching format expectations')\n",
    "\n",
    "\n",
    "\n",
    "\n",
    "\n",
    "\n",
    "del sample_images\n"
   ]
  },
  {
   "cell_type": "markdown",
   "id": "742ed520",
   "metadata": {},
   "source": [
    "## Model building"
   ]
  },
  {
   "cell_type": "code",
   "execution_count": null,
   "id": "a8c12532",
   "metadata": {},
   "outputs": [],
   "source": []
  },
  {
   "cell_type": "markdown",
   "id": "bc5e04e4",
   "metadata": {},
   "source": [
    "## Train Data Evaluation"
   ]
  },
  {
   "cell_type": "code",
   "execution_count": null,
   "id": "3b34675b",
   "metadata": {},
   "outputs": [],
   "source": []
  },
  {
   "cell_type": "markdown",
   "id": "cb9b7f61",
   "metadata": {},
   "source": []
  },
  {
   "cell_type": "code",
   "execution_count": null,
   "id": "a4b9cbd4",
   "metadata": {},
   "outputs": [],
   "source": []
  }
 ],
 "metadata": {
  "kernelspec": {
   "display_name": "Python 3",
   "language": "python",
   "name": "python3"
  },
  "language_info": {
   "codemirror_mode": {
    "name": "ipython",
    "version": 3
   },
   "file_extension": ".py",
   "mimetype": "text/x-python",
   "name": "python",
   "nbconvert_exporter": "python",
   "pygments_lexer": "ipython3",
   "version": "3.11.2"
  }
 },
 "nbformat": 4,
 "nbformat_minor": 5
}
